{
 "cells": [
  {
   "cell_type": "markdown",
   "metadata": {},
   "source": [
    "# Regression with Linear Algebra - Lab\n",
    "\n",
    "## Introduction\n",
    "\n",
    "In this lab, you'll apply regression analysis using simple matrix manipulations to fit a model to given data, and then predict new values for previously unseen data. You'll follow the approach highlighted in the previous lesson where you used NumPy to build the appropriate matrices and vectors and solve for the $\\beta$ (unknown variables) vector. The beta vector will be used with test data to make new predictions. You'll also evaluate the model fit.\n",
    "In order to make this experiment interesting, you'll use NumPy at every single stage of this experiment, i.e., loading data, creating matrices, performing train-test split, model fitting, and evaluation.\n",
    "  \n",
    "\n",
    "## Objectives\n",
    "\n",
    "In this lab you will:\n",
    "\n",
    "- Use matrix algebra to calculate the parameter values of a linear regression\n",
    "\n",
    "\n",
    "First, let's import necessary libraries: "
   ]
  },
  {
   "cell_type": "code",
   "execution_count": 1,
   "metadata": {},
   "outputs": [],
   "source": [
    "import csv # for reading csv file\n",
    "import numpy as np"
   ]
  },
  {
   "cell_type": "markdown",
   "metadata": {},
   "source": [
    "## Dataset \n",
    "\n",
    "The dataset you'll use for this experiment is \"**Sales Prices in the City of Windsor, Canada**\", something very similar to the Boston Housing dataset. This dataset contains a number of input (independent) variables, including area, number of bedrooms/bathrooms, facilities(AC/garage), etc. and an output (dependent) variable, **price**.  You'll formulate a linear algebra problem to find linear mappings from input features using the equation provided in the previous lesson. \n",
    "\n",
    "This will allow you to find a relationship between house features and house price for the given data, allowing you to find unknown prices for houses, given the input features.  \n",
    "\n",
    "A description of the dataset and included features is available [here](https://rdrr.io/cran/Ecdat/man/Housing.html).\n",
    "\n",
    "In your repository, the dataset is available as `windsor_housing.csv`. There are 11 input features (first 11 columns):\n",
    "\n",
    "\tlotsize\tbedrooms  bathrms  stories\tdriveway  recroom\tfullbase  gashw\t airco  garagepl   prefarea\n",
    "\n",
    "and 1 output feature i.e. **price** (12th column). \n",
    "\n",
    "The focus of this lab is not really answering a preset analytical question, but to learn how you can perform a regression experiment, using mathematical manipulations - similar to the one you performed using `statsmodels`. So you won't be using any `pandas` or `statsmodels` goodness here. The key objectives here are to: \n",
    "\n",
    "- Understand regression with matrix algebra and \n",
    "- Mastery in NumPy scientific computation\n",
    "\n",
    "## Stage 1: Prepare data for modeling \n",
    "\n",
    "Let's give you a head start by importing the dataset. You'll perform the following steps to get the data ready for analysis:\n",
    "\n",
    "* Initialize an empty list `data` for loading data\n",
    "* Read the csv file containing complete (raw) `windsor_housing.csv`. [Use `csv.reader()` for loading data.](https://docs.python.org/3/library/csv.html). Store this in `data` one row at a time \n",
    "\n",
    "* Drop the first row of csv file as it contains the names of variables (header) which won't be used during analysis (keeping this will cause errors as it contains text values) \n",
    "\n",
    "* Append a column of all **1**s to the data (bias) as the first column\n",
    "\n",
    "* Convert `data` to a NumPy array and inspect first few rows \n",
    "\n",
    "> NOTE: `read.csv()` reads the csv as a text file, so you should convert the contents to float."
   ]
  },
  {
   "cell_type": "code",
   "execution_count": 9,
   "metadata": {},
   "outputs": [],
   "source": [
    "# Your code here\n",
    "data = []\n",
    "\n",
    "with open('windsor_housing.csv') as f:\n",
    "    csv_file = csv.reader(f)\n",
    "\n",
    "    next(csv_file)\n",
    "\n",
    "    for row in csv_file:\n",
    "        ones = [1.0]\n",
    "        for r in row:\n",
    "            ones.append(float(r))\n",
    "        data.append(ones)\n",
    "\n",
    "data = np.array(data)\n",
    "\n",
    "\n",
    "\n",
    "\n",
    "# First 5 rows of raw data \n",
    "\n",
    "# array([[1.00e+00, 5.85e+03, 3.00e+00, 1.00e+00, 2.00e+00, 1.00e+00,\n",
    "#         0.00e+00, 1.00e+00, 0.00e+00, 0.00e+00, 1.00e+00, 0.00e+00,\n",
    "#         4.20e+04],\n",
    "#        [1.00e+00, 4.00e+03, 2.00e+00, 1.00e+00, 1.00e+00, 1.00e+00,\n",
    "#         0.00e+00, 0.00e+00, 0.00e+00, 0.00e+00, 0.00e+00, 0.00e+00,\n",
    "#         3.85e+04],\n",
    "#        [1.00e+00, 3.06e+03, 3.00e+00, 1.00e+00, 1.00e+00, 1.00e+00,\n",
    "#         0.00e+00, 0.00e+00, 0.00e+00, 0.00e+00, 0.00e+00, 0.00e+00,\n",
    "#         4.95e+04],\n",
    "#        [1.00e+00, 6.65e+03, 3.00e+00, 1.00e+00, 2.00e+00, 1.00e+00,\n",
    "#         1.00e+00, 0.00e+00, 0.00e+00, 0.00e+00, 0.00e+00, 0.00e+00,\n",
    "#         6.05e+04],\n",
    "#        [1.00e+00, 6.36e+03, 2.00e+00, 1.00e+00, 1.00e+00, 1.00e+00,\n",
    "#         0.00e+00, 0.00e+00, 0.00e+00, 0.00e+00, 0.00e+00, 0.00e+00,\n",
    "#         6.10e+04]])"
   ]
  },
  {
   "cell_type": "code",
   "execution_count": 10,
   "metadata": {},
   "outputs": [
    {
     "data": {
      "text/plain": [
       "array([[1.00e+00, 5.85e+03, 3.00e+00, ..., 1.00e+00, 0.00e+00, 4.20e+04],\n",
       "       [1.00e+00, 4.00e+03, 2.00e+00, ..., 0.00e+00, 0.00e+00, 3.85e+04],\n",
       "       [1.00e+00, 3.06e+03, 3.00e+00, ..., 0.00e+00, 0.00e+00, 4.95e+04],\n",
       "       ...,\n",
       "       [1.00e+00, 6.00e+03, 3.00e+00, ..., 1.00e+00, 0.00e+00, 1.03e+05],\n",
       "       [1.00e+00, 6.00e+03, 3.00e+00, ..., 1.00e+00, 0.00e+00, 1.05e+05],\n",
       "       [1.00e+00, 6.00e+03, 3.00e+00, ..., 1.00e+00, 0.00e+00, 1.05e+05]])"
      ]
     },
     "execution_count": 10,
     "metadata": {},
     "output_type": "execute_result"
    }
   ],
   "source": [
    "data"
   ]
  },
  {
   "cell_type": "markdown",
   "metadata": {},
   "source": [
    "## Step 2: Perform a 80/20 train-test split\n",
    "\n",
    "Explore NumPy's official documentation to manually split a dataset using a random sampling method of your choice. Some useful methods are located in the [numpy.random library](https://docs.scipy.org/doc/numpy-1.14.0/reference/routines.random.html).\n",
    "* Perform a **random** 80/20 split on data using a method of your choice in NumPy\n",
    "* Split the data to create `x_train`, `y_train`, `x_test`, and `y_test` arrays \n",
    "* Inspect the contents to see if the split performed as expected\n",
    "\n",
    "> Note: When randomly splitting data, it's always recommended to set a seed in order to ensure reproducibility "
   ]
  },
  {
   "cell_type": "code",
   "execution_count": 12,
   "metadata": {},
   "outputs": [
    {
     "data": {
      "text/plain": [
       "(546, 13)"
      ]
     },
     "execution_count": 12,
     "metadata": {},
     "output_type": "execute_result"
    }
   ],
   "source": [
    "data.shape"
   ]
  },
  {
   "cell_type": "code",
   "execution_count": 22,
   "metadata": {},
   "outputs": [
    {
     "name": "stdout",
     "output_type": "stream",
     "text": [
      "(437, 12) (437,) (109, 12) (109,)\n"
     ]
    }
   ],
   "source": [
    "# Your code here \n",
    "np.random.seed(30)\n",
    "\n",
    "split = np.arange(546)\n",
    "training_split = np.random.choice(split, size=round(546*.8), replace=False)\n",
    "test_split = split[~np.isin(split, training_split)]\n",
    "training = data[training_split, :]\n",
    "test = data[test_split, :]\n",
    "\n",
    "x_train = training[:, :-1]\n",
    "y_train = training[:, -1]\n",
    "\n",
    "x_test = test[:, :-1]\n",
    "y_test = test[:, -1]\n",
    "\n",
    "print(x_train.shape, y_train.shape, x_test.shape, y_test.shape)\n",
    "\n",
    "# Split results\n",
    "# Raw data Shape:  (546, 13)\n",
    "# Train/Test Split: (437, 13) (109, 13)\n",
    "# x_train, y_train, x_test, y_test: (437, 12) (437,) (109, 12) (109,)"
   ]
  },
  {
   "cell_type": "markdown",
   "metadata": {},
   "source": [
    "## Step 3: Calculate the `beta` \n",
    "\n",
    "With $X$ and $y$ in place, you can now compute your beta values with $x_\\text{train}$ and $y_\\text{train}$ as:\n",
    "#### $\\beta = (x_\\text{train}^T. x_\\text{train})^{-1} . x_\\text{train}^T . y_\\text{train}$\n",
    "\n",
    "* Using NumPy operations (transpose, inverse) that we saw earlier, compute the above equation in steps \n",
    "* Print your beta values "
   ]
  },
  {
   "cell_type": "code",
   "execution_count": 24,
   "metadata": {},
   "outputs": [
    {
     "data": {
      "text/plain": [
       "array([-2.88626553e+03,  3.80571628e+00,  1.11998003e+03,  1.45822563e+04,\n",
       "        6.74015013e+03,  5.99149016e+03,  4.15716688e+03,  4.45960102e+03,\n",
       "        1.44770250e+04,  1.28399051e+04,  4.08510254e+03,  1.12871565e+04])"
      ]
     },
     "execution_count": 24,
     "metadata": {},
     "output_type": "execute_result"
    }
   ],
   "source": [
    "# Your code here \n",
    "xtt = x_train.T\n",
    "xttx_inv = np.linalg.inv(xtt.dot(x_train))\n",
    "\n",
    "beta = xttx_inv.dot(xtt.dot(y_train))\n",
    "beta\n",
    "\n",
    "\n",
    "# Beta values\n",
    "# Due to random split, your answers may vary \n",
    "# [-5.46637290e+03  3.62457767e+00  2.75100964e+03  1.47223649e+04\n",
    "#   5.97774591e+03  5.71916945e+03  5.73109882e+03  3.83586258e+03\n",
    "#   8.12674607e+03  1.33296437e+04  3.74995169e+03  1.01514699e+04]"
   ]
  },
  {
   "cell_type": "markdown",
   "metadata": {},
   "source": [
    "## Step 4: Make predictions\n",
    "Great, you now have a set of coefficients that describe the linear mappings between $X$ and $y$. You can now use the calculated beta values with the test datasets that we left out to calculate $y$ predictions. Next, use all features in turn and multiply it with this beta. The result will give a prediction for each row which you can append to a new array of predictions.\n",
    "\n",
    "$\\hat{y} = x\\beta = \\beta_0 + \\beta_1 x_1 +  \\beta_2 x_2 + \\ldots + \\beta_m x_m $ \n",
    "\n",
    "* Create a new empty list (`y_pred`) for saving predictions\n",
    "* For each row of `x_test`, take the dot product of the row with beta to calculate the prediction for that row\n",
    "* Append the predictions to `y_pred`\n",
    "* Print the new set of predictions"
   ]
  },
  {
   "cell_type": "code",
   "execution_count": 42,
   "metadata": {
    "scrolled": true
   },
   "outputs": [
    {
     "name": "stdout",
     "output_type": "stream",
     "text": [
      "[104603.89194509253, 32093.24980488955, 45180.19738682963, 38677.332256081136, 63129.81280351954, 64493.349675353624, 38455.708966699196, 57612.096785602116, 51705.96457978106, 41019.17381798511, 41216.17931907057, 32245.4784559686, 47276.8708221466, 87020.49775418203, 51272.87291297179, 63966.167001553986, 72256.55534565885, 55028.44710233409, 52546.461814195376, 76278.31832962029, 44173.88600484734, 63115.0135035724, 69143.89433940871, 71484.44457329545, 88340.55626347278, 103610.39104703054, 49179.72896063479, 50267.269433085465, 45944.87012520487, 69095.59205268715, 71111.80508035372, 51243.691698848306, 44793.55261942837, 31043.971557256395, 42321.877856069186, 43585.13274145706, 43791.74086522611, 53159.58312630604, 61655.38477754157, 62332.1353953276, 57750.52522426939, 37384.52148145022, 50078.97744681354, 60836.48889847588, 43996.58630996125, 56198.56922019155, 42042.68488974057, 40520.39837895003, 42140.34077610719, 40368.16972787097, 77226.36429837198, 49598.357751102194, 52356.17600034656, 76949.37285771802, 39089.44905880691, 42042.68488974057, 42194.91354081963, 66958.96132808484, 83281.48550179257, 104289.34683718265, 108261.42955099803, 99226.6055423083, 103428.1861530577, 58470.352909571055, 68834.4976860279, 115698.42903630802, 80806.93235965937, 130331.03548721923, 82825.20050067817, 88315.52438195448, 76759.38349158785, 81447.32749152789, 81870.87775490171, 110921.69506957199, 66093.43894932879, 69711.5364026739, 88973.08745030608, 97935.39255479921, 86817.70967415685, 56775.34071443372, 64234.07142560082, 70074.812458586, 58091.019101455226, 70231.45908705762, 87787.16544639137, 74383.72215199002, 68724.81663243295, 79303.50004548744, 99016.95563424377, 118168.40511404074, 58437.740274177544, 72277.88191019074, 60718.28938413243, 88529.96264175719, 81467.07083802474, 91375.39651169421, 77571.57002871562, 102334.7828344402, 65816.82820576502, 97014.01727866508, 77048.7626501816, 50697.98314839719, 93351.3259236557, 76271.61669515041, 90902.63487288695, 96009.59630888456, 85051.51620464952, 72375.21469172288, 98264.48066739447]\n"
     ]
    }
   ],
   "source": [
    "# Your code here \n",
    "y_pred = []\n",
    "\n",
    "for row in x_test:\n",
    "    y_pred.append(row.dot(beta))\n",
    "\n",
    "print(y_pred)"
   ]
  },
  {
   "cell_type": "markdown",
   "metadata": {},
   "source": [
    "## Step 5: Evaluate model \n",
    "\n",
    "### Visualize actual vs. predicted values\n",
    "This is exciting, now your model can use the beta value to predict the price of houses given the input features. Let's plot these predictions against the actual values in `y_test` to see how much our model deviates. "
   ]
  },
  {
   "cell_type": "code",
   "execution_count": 48,
   "metadata": {},
   "outputs": [
    {
     "data": {
      "image/png": "[encoded data removed]",
      "text/plain": [
       "<Figure size 720x360 with 1 Axes>"
      ]
     },
     "metadata": {
      "needs_background": "light"
     },
     "output_type": "display_data"
    }
   ],
   "source": [
    "# Plot predicted and actual values as line plots\n",
    "import matplotlib.pyplot as plt\n",
    "%matplotlib inline\n",
    "\n",
    "plt.figure(figsize=(10, 5))\n",
    "plt.plot(range(0, 109), y_test, label='test')\n",
    "plt.plot(range(0, 109), y_pred, label='pred')\n",
    "plt.legend()\n",
    "plt.show()"
   ]
  },
  {
   "cell_type": "markdown",
   "metadata": {},
   "source": [
    "This doesn't look so bad, does it? Your model, although isn't perfect at this stage, is making a good attempt to predict house prices although a few prediction seem a bit out. There could be a number of reasons for this. Let's try to dig a bit deeper to check model's predictive abilities by comparing these prediction with actual values of `y_test` individually. That will help you calculate the RMSE value (root mean squared error) for your model. \n",
    "\n",
    "### Root Mean Squared Error\n",
    "Here is the formula for RMSE:  \n",
    "\n",
    "$$ \\large RMSE = \\sqrt{\\sum^N_{i=1}\\dfrac{ (\\text{Predicted}_i-\\text{Actual}_i)^2}{N}}$$\n",
    "\n",
    "* Initialize an empty array `err`\n",
    "* For each row in `y_test` and `y_pred`, take the squared difference and append error for each row in the `err` array\n",
    "* Calculate $RMSE$ from `err` using the formula shown above "
   ]
  },
  {
   "cell_type": "code",
   "execution_count": 55,
   "metadata": {},
   "outputs": [
    {
     "data": {
      "text/plain": [
       "14740.040138059478"
      ]
     },
     "execution_count": 55,
     "metadata": {},
     "output_type": "execute_result"
    }
   ],
   "source": [
    "# Calculate RMSE\n",
    "err = []\n",
    "\n",
    "for num in range(len(y_test)):\n",
    "    err.append((y_pred[num] - y_test[num])**2)\n",
    "\n",
    "RMSE = np.sqrt(np.array(err).mean())\n",
    "RMSE\n",
    "    \n",
    "\n",
    "# Due to random split, your answers may vary \n",
    "# RMSE = 14868.172645765708"
   ]
  },
  {
   "cell_type": "markdown",
   "metadata": {},
   "source": [
    "### Normalized root mean squared error\n",
    "The above error is clearly in terms of the dependent variable, i.e., the final house price. You can also use a normalized mean squared error in case of multiple regression which can be calculated from RMSE using following the formula:\n",
    "\n",
    "$$ \\large NRMSE = \\dfrac{RMSE}{max_i y_i - min_i y_i} $$\n",
    "\n",
    "* Calculate normalized RMSE"
   ]
  },
  {
   "cell_type": "code",
   "execution_count": null,
   "metadata": {},
   "outputs": [],
   "source": [
    "# Calculate NRMSE\n",
    "\n",
    "\n",
    "# Due to random split, your answers may vary \n",
    "# 0.09011013724706489"
   ]
  },
  {
   "cell_type": "markdown",
   "metadata": {},
   "source": [
    "There it is. A complete multiple regression analysis using nothing but NumPy. Having good programming skills in NumPy allows you to dig deeper into analytical algorithms in machine learning and deep learning. Using matrix multiplication techniques you saw here, you can easily build a whole neural network from scratch. \n",
    "\n",
    "## Level up (Optional)\n",
    "\n",
    "* Calculate the R-squared and adjusted R-squared for the above model \n",
    "* Plot the residuals (similar to `statsmodels`) and comment on the variance and heteroscedasticity\n",
    "* Run the experiment in `statsmodels` and compare the performance of both approaches in terms of computational cost\n",
    "\n",
    "## Summary\n",
    "\n",
    "In this lab, you built a predictive model for predicting house prices. Remember this is a very naive implementation of regression modeling. The purpose here was to get an introduction to the applications of linear algebra into machine learning and predictive analysis. There are a number of shortcomings in this modeling approach and you can further apply a number of data modeling techniques to improve this model. "
   ]
  }
 ],
 "metadata": {
  "kernelspec": {
   "display_name": "Python 3",
   "language": "python",
   "name": "python3"
  },
  "language_info": {
   "codemirror_mode": {
    "name": "ipython",
    "version": 3
   },
   "file_extension": ".py",
   "mimetype": "text/x-python",
   "name": "python",
   "nbconvert_exporter": "python",
   "pygments_lexer": "ipython3",
   "version": "3.6.6"
  }
 },
 "nbformat": 4,
 "nbformat_minor": 2
}
